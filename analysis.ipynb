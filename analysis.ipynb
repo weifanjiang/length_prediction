{
 "cells": [
  {
   "cell_type": "code",
   "execution_count": 4,
   "metadata": {},
   "outputs": [],
   "source": [
    "import json\n",
    "import matplotlib.pyplot as plt\n",
    "import numpy as np\n",
    "import pandas as pd\n",
    "from datasets import Dataset, DatasetDict\n",
    "from sklearn.metrics import accuracy_score"
   ]
  },
  {
   "cell_type": "markdown",
   "metadata": {},
   "source": [
    "## DistilBert Alpaca Prediction"
   ]
  },
  {
   "cell_type": "code",
   "execution_count": 3,
   "metadata": {},
   "outputs": [],
   "source": [
    "with open('eval/alpaca_test_eval.json', 'r') as fin:\n",
    "    test_eval = json.load(fin)\n",
    "eval_df = pd.DataFrame(test_eval)"
   ]
  },
  {
   "cell_type": "code",
   "execution_count": 6,
   "metadata": {},
   "outputs": [
    {
     "data": {
      "text/html": [
       "<div>\n",
       "<style scoped>\n",
       "    .dataframe tbody tr th:only-of-type {\n",
       "        vertical-align: middle;\n",
       "    }\n",
       "\n",
       "    .dataframe tbody tr th {\n",
       "        vertical-align: top;\n",
       "    }\n",
       "\n",
       "    .dataframe thead th {\n",
       "        text-align: right;\n",
       "    }\n",
       "</style>\n",
       "<table border=\"1\" class=\"dataframe\">\n",
       "  <thead>\n",
       "    <tr style=\"text-align: right;\">\n",
       "      <th></th>\n",
       "      <th>label</th>\n",
       "      <th>size</th>\n",
       "      <th>accuracy</th>\n",
       "    </tr>\n",
       "  </thead>\n",
       "  <tbody>\n",
       "    <tr>\n",
       "      <th>0</th>\n",
       "      <td>0</td>\n",
       "      <td>2827</td>\n",
       "      <td>0.852494</td>\n",
       "    </tr>\n",
       "    <tr>\n",
       "      <th>1</th>\n",
       "      <td>1</td>\n",
       "      <td>1465</td>\n",
       "      <td>0.744027</td>\n",
       "    </tr>\n",
       "    <tr>\n",
       "      <th>2</th>\n",
       "      <td>2</td>\n",
       "      <td>658</td>\n",
       "      <td>0.264438</td>\n",
       "    </tr>\n",
       "    <tr>\n",
       "      <th>3</th>\n",
       "      <td>3</td>\n",
       "      <td>138</td>\n",
       "      <td>0.000000</td>\n",
       "    </tr>\n",
       "    <tr>\n",
       "      <th>4</th>\n",
       "      <td>4</td>\n",
       "      <td>62</td>\n",
       "      <td>0.064516</td>\n",
       "    </tr>\n",
       "    <tr>\n",
       "      <th>5</th>\n",
       "      <td>5</td>\n",
       "      <td>22</td>\n",
       "      <td>0.000000</td>\n",
       "    </tr>\n",
       "    <tr>\n",
       "      <th>6</th>\n",
       "      <td>6</td>\n",
       "      <td>13</td>\n",
       "      <td>0.000000</td>\n",
       "    </tr>\n",
       "    <tr>\n",
       "      <th>7</th>\n",
       "      <td>7</td>\n",
       "      <td>9</td>\n",
       "      <td>0.000000</td>\n",
       "    </tr>\n",
       "    <tr>\n",
       "      <th>8</th>\n",
       "      <td>8</td>\n",
       "      <td>4</td>\n",
       "      <td>0.000000</td>\n",
       "    </tr>\n",
       "    <tr>\n",
       "      <th>9</th>\n",
       "      <td>9</td>\n",
       "      <td>3</td>\n",
       "      <td>0.000000</td>\n",
       "    </tr>\n",
       "  </tbody>\n",
       "</table>\n",
       "</div>"
      ],
      "text/plain": [
       "   label  size  accuracy\n",
       "0      0  2827  0.852494\n",
       "1      1  1465  0.744027\n",
       "2      2   658  0.264438\n",
       "3      3   138  0.000000\n",
       "4      4    62  0.064516\n",
       "5      5    22  0.000000\n",
       "6      6    13  0.000000\n",
       "7      7     9  0.000000\n",
       "8      8     4  0.000000\n",
       "9      9     3  0.000000"
      ]
     },
     "execution_count": 6,
     "metadata": {},
     "output_type": "execute_result"
    }
   ],
   "source": [
    "# Performance by bin\n",
    "perf_by_bin = list()\n",
    "grb_bin = eval_df.groupby(by='label')\n",
    "\n",
    "for label, sub_df in grb_bin:\n",
    "    ssize = sub_df.shape[0]\n",
    "    accuracy = accuracy_score(sub_df.label.values, sub_df.pred_label.values)\n",
    "    perf_by_bin.append({\n",
    "        \"label\": label,\n",
    "        \"size\": ssize,\n",
    "        \"accuracy\": accuracy,\n",
    "    })\n",
    "\n",
    "perf_by_bin = pd.DataFrame(perf_by_bin).sort_values(by='label', ascending=True, ignore_index=True)\n",
    "perf_by_bin"
   ]
  },
  {
   "cell_type": "code",
   "execution_count": 8,
   "metadata": {},
   "outputs": [
    {
     "name": "stdout",
     "output_type": "stream",
     "text": [
      "Short jobs predicted long: 540 (0.10382618727167853)\n",
      "Long jobs predicted short: 983 (0.18900211497788888)\n"
     ]
    }
   ],
   "source": [
    "# Short jobs predicted long / long jobs predicted short?\n",
    "\n",
    "spl = eval_df[eval_df.label < eval_df.pred_label].shape[0]\n",
    "lps = eval_df[eval_df.label > eval_df.pred_label].shape[0]\n",
    "\n",
    "print(f\"Short jobs predicted long: {spl} ({spl / eval_df.shape[0]})\")\n",
    "print(f\"Long jobs predicted short: {lps} ({lps / eval_df.shape[0]})\")"
   ]
  }
 ],
 "metadata": {
  "kernelspec": {
   "display_name": "schedule",
   "language": "python",
   "name": "python3"
  },
  "language_info": {
   "codemirror_mode": {
    "name": "ipython",
    "version": 3
   },
   "file_extension": ".py",
   "mimetype": "text/x-python",
   "name": "python",
   "nbconvert_exporter": "python",
   "pygments_lexer": "ipython3",
   "version": "3.11.8"
  }
 },
 "nbformat": 4,
 "nbformat_minor": 2
}
