{
 "cells": [
  {
   "cell_type": "code",
   "execution_count": 2,
   "metadata": {},
   "outputs": [],
   "source": [
    "import fire\n",
    "import torch\n",
    "from torch import nn, optim\n",
    "import numpy as np\n",
    "from tqdm.notebook import tqdm\n",
    "import os\n",
    "import pandas as pd\n",
    "import pickle as pkl\n",
    "from sklearn.model_selection import train_test_split\n",
    "from sklearn.linear_model import LinearRegression\n",
    "from sklearn.linear_model import LogisticRegression"
   ]
  },
  {
   "cell_type": "code",
   "execution_count": 3,
   "metadata": {},
   "outputs": [],
   "source": [
    "use_cuda = True"
   ]
  },
  {
   "cell_type": "code",
   "execution_count": 5,
   "metadata": {},
   "outputs": [],
   "source": [
    "data_partition_path = 'dataset/lllt_split/0.pkl'\n",
    "\n",
    "with open(data_partition_path, 'rb') as fin:\n",
    "    data_partition = pkl.load(fin)"
   ]
  },
  {
   "cell_type": "code",
   "execution_count": 4,
   "metadata": {},
   "outputs": [
    {
     "data": {
      "text/plain": [
       "dict_keys(['id', 'prompt', 'iter', 'X', 'Y', 'train'])"
      ]
     },
     "execution_count": 4,
     "metadata": {},
     "output_type": "execute_result"
    }
   ],
   "source": [
    "data_partition[0].keys()"
   ]
  },
  {
   "cell_type": "code",
   "execution_count": 5,
   "metadata": {},
   "outputs": [],
   "source": [
    "with open(data_partition_path, 'rb') as fin:\n",
    "    test_partition = pkl.load(fin)\n",
    "\n",
    "test_partition = [x for x in test_partition if not x['train']]"
   ]
  },
  {
   "cell_type": "code",
   "execution_count": 6,
   "metadata": {},
   "outputs": [
    {
     "data": {
      "application/vnd.jupyter.widget-view+json": {
       "model_id": "cba13ae8937443898ca9c1ad060bb857",
       "version_major": 2,
       "version_minor": 0
      },
      "text/plain": [
       "  0%|          | 0/10000 [00:00<?, ?it/s]"
      ]
     },
     "metadata": {},
     "output_type": "display_data"
    },
    {
     "data": {
      "application/vnd.jupyter.widget-view+json": {
       "model_id": "984d0b6c07de4f82a84695600f1397f3",
       "version_major": 2,
       "version_minor": 0
      },
      "text/plain": [
       "Epoch 0:   0%|          | 0/8000 [00:00<?, ?it/s]"
      ]
     },
     "metadata": {},
     "output_type": "display_data"
    },
    {
     "name": "stdout",
     "output_type": "stream",
     "text": [
      "Error: 0.593, Epoch: 0, lr: 0.009972609476841367\n"
     ]
    },
    {
     "data": {
      "application/vnd.jupyter.widget-view+json": {
       "model_id": "440ff3fa392841cca73be389ab352198",
       "version_major": 2,
       "version_minor": 0
      },
      "text/plain": [
       "Epoch 1:   0%|          | 0/8000 [00:00<?, ?it/s]"
      ]
     },
     "metadata": {},
     "output_type": "display_data"
    },
    {
     "name": "stdout",
     "output_type": "stream",
     "text": [
      "Error: 0.584, Epoch: 1, lr: 0.009890738003669028\n"
     ]
    },
    {
     "data": {
      "application/vnd.jupyter.widget-view+json": {
       "model_id": "68561f2ebd4c420dac24b02fc70309ce",
       "version_major": 2,
       "version_minor": 0
      },
      "text/plain": [
       "Epoch 2:   0%|          | 0/8000 [00:00<?, ?it/s]"
      ]
     },
     "metadata": {},
     "output_type": "display_data"
    },
    {
     "name": "stdout",
     "output_type": "stream",
     "text": [
      "Error: 0.5675, Epoch: 2, lr: 0.009755282581475769\n"
     ]
    },
    {
     "data": {
      "application/vnd.jupyter.widget-view+json": {
       "model_id": "ae186889be1c479d91b622af673da947",
       "version_major": 2,
       "version_minor": 0
      },
      "text/plain": [
       "Epoch 3:   0%|          | 0/8000 [00:00<?, ?it/s]"
      ]
     },
     "metadata": {},
     "output_type": "display_data"
    },
    {
     "name": "stdout",
     "output_type": "stream",
     "text": [
      "Error: 0.568, Epoch: 3, lr: 0.009567727288213004\n"
     ]
    },
    {
     "data": {
      "application/vnd.jupyter.widget-view+json": {
       "model_id": "7dc663c2611943e48645c0710daeb9d5",
       "version_major": 2,
       "version_minor": 0
      },
      "text/plain": [
       "Epoch 4:   0%|          | 0/8000 [00:00<?, ?it/s]"
      ]
     },
     "metadata": {},
     "output_type": "display_data"
    },
    {
     "name": "stdout",
     "output_type": "stream",
     "text": [
      "Error: 0.548, Epoch: 4, lr: 0.009330127018922194\n"
     ]
    },
    {
     "data": {
      "application/vnd.jupyter.widget-view+json": {
       "model_id": "b2c79e12cbe54d1bb877cfb6b536a3a3",
       "version_major": 2,
       "version_minor": 0
      },
      "text/plain": [
       "Epoch 5:   0%|          | 0/8000 [00:00<?, ?it/s]"
      ]
     },
     "metadata": {},
     "output_type": "display_data"
    },
    {
     "name": "stdout",
     "output_type": "stream",
     "text": [
      "Error: 0.539, Epoch: 5, lr: 0.009045084971874737\n"
     ]
    },
    {
     "data": {
      "application/vnd.jupyter.widget-view+json": {
       "model_id": "7ff0cfd0ba374e30a6ea95ecaa2c6846",
       "version_major": 2,
       "version_minor": 0
      },
      "text/plain": [
       "Epoch 6:   0%|          | 0/8000 [00:00<?, ?it/s]"
      ]
     },
     "metadata": {},
     "output_type": "display_data"
    },
    {
     "name": "stdout",
     "output_type": "stream",
     "text": [
      "Error: 0.535, Epoch: 6, lr: 0.00871572412738697\n"
     ]
    },
    {
     "data": {
      "application/vnd.jupyter.widget-view+json": {
       "model_id": "857070ebe7c04a6686db6c40c7ec437c",
       "version_major": 2,
       "version_minor": 0
      },
      "text/plain": [
       "Epoch 7:   0%|          | 0/8000 [00:00<?, ?it/s]"
      ]
     },
     "metadata": {},
     "output_type": "display_data"
    },
    {
     "name": "stdout",
     "output_type": "stream",
     "text": [
      "Error: 0.5375, Epoch: 7, lr: 0.008345653031794291\n"
     ]
    },
    {
     "data": {
      "application/vnd.jupyter.widget-view+json": {
       "model_id": "f192fc4da3334b21b77cf6fe45596709",
       "version_major": 2,
       "version_minor": 0
      },
      "text/plain": [
       "Epoch 8:   0%|          | 0/8000 [00:00<?, ?it/s]"
      ]
     },
     "metadata": {},
     "output_type": "display_data"
    },
    {
     "name": "stdout",
     "output_type": "stream",
     "text": [
      "Error: 0.5335, Epoch: 8, lr: 0.007938926261462365\n"
     ]
    },
    {
     "data": {
      "application/vnd.jupyter.widget-view+json": {
       "model_id": "401057100fde4e46a9998cd2e4d61979",
       "version_major": 2,
       "version_minor": 0
      },
      "text/plain": [
       "Epoch 9:   0%|          | 0/8000 [00:00<?, ?it/s]"
      ]
     },
     "metadata": {},
     "output_type": "display_data"
    },
    {
     "name": "stdout",
     "output_type": "stream",
     "text": [
      "Error: 0.5265, Epoch: 9, lr: 0.007499999999999999\n"
     ]
    },
    {
     "data": {
      "application/vnd.jupyter.widget-view+json": {
       "model_id": "4faf3180c04244dda593c35eb4828b5b",
       "version_major": 2,
       "version_minor": 0
      },
      "text/plain": [
       "Epoch 10:   0%|          | 0/8000 [00:00<?, ?it/s]"
      ]
     },
     "metadata": {},
     "output_type": "display_data"
    },
    {
     "name": "stdout",
     "output_type": "stream",
     "text": [
      "Error: 0.5235, Epoch: 10, lr: 0.007033683215379001\n"
     ]
    },
    {
     "data": {
      "application/vnd.jupyter.widget-view+json": {
       "model_id": "2d44a081f5bf464d8fe94e368d371af9",
       "version_major": 2,
       "version_minor": 0
      },
      "text/plain": [
       "Epoch 11:   0%|          | 0/8000 [00:00<?, ?it/s]"
      ]
     },
     "metadata": {},
     "output_type": "display_data"
    },
    {
     "name": "stdout",
     "output_type": "stream",
     "text": [
      "Error: 0.5225, Epoch: 11, lr: 0.0065450849718747366\n"
     ]
    },
    {
     "data": {
      "application/vnd.jupyter.widget-view+json": {
       "model_id": "d6848e542c6741a881f43885ff0b2b23",
       "version_major": 2,
       "version_minor": 0
      },
      "text/plain": [
       "Epoch 12:   0%|          | 0/8000 [00:00<?, ?it/s]"
      ]
     },
     "metadata": {},
     "output_type": "display_data"
    },
    {
     "name": "stdout",
     "output_type": "stream",
     "text": [
      "Error: 0.53, Epoch: 12, lr: 0.006039558454088796\n"
     ]
    },
    {
     "data": {
      "application/vnd.jupyter.widget-view+json": {
       "model_id": "427000a62e634973ae71b7f647226a5f",
       "version_major": 2,
       "version_minor": 0
      },
      "text/plain": [
       "Epoch 13:   0%|          | 0/8000 [00:00<?, ?it/s]"
      ]
     },
     "metadata": {},
     "output_type": "display_data"
    },
    {
     "name": "stdout",
     "output_type": "stream",
     "text": [
      "Error: 0.5295, Epoch: 13, lr: 0.0055226423163382676\n"
     ]
    },
    {
     "data": {
      "application/vnd.jupyter.widget-view+json": {
       "model_id": "768dd90932d3493cb443f66d6af7f581",
       "version_major": 2,
       "version_minor": 0
      },
      "text/plain": [
       "Epoch 14:   0%|          | 0/8000 [00:00<?, ?it/s]"
      ]
     },
     "metadata": {},
     "output_type": "display_data"
    },
    {
     "name": "stdout",
     "output_type": "stream",
     "text": [
      "Error: 0.5265, Epoch: 14, lr: 0.005000000000000001\n"
     ]
    },
    {
     "data": {
      "application/vnd.jupyter.widget-view+json": {
       "model_id": "dbe92264e52047ab810af41ba3369cf9",
       "version_major": 2,
       "version_minor": 0
      },
      "text/plain": [
       "Epoch 15:   0%|          | 0/8000 [00:00<?, ?it/s]"
      ]
     },
     "metadata": {},
     "output_type": "display_data"
    },
    {
     "name": "stdout",
     "output_type": "stream",
     "text": [
      "Error: 0.525, Epoch: 15, lr: 0.0044773576836617335\n"
     ]
    },
    {
     "data": {
      "application/vnd.jupyter.widget-view+json": {
       "model_id": "e612d809a99b42af89d85cbade30c75b",
       "version_major": 2,
       "version_minor": 0
      },
      "text/plain": [
       "Epoch 16:   0%|          | 0/8000 [00:00<?, ?it/s]"
      ]
     },
     "metadata": {},
     "output_type": "display_data"
    },
    {
     "name": "stdout",
     "output_type": "stream",
     "text": [
      "Error: 0.5235, Epoch: 16, lr: 0.003960441545911203\n"
     ]
    },
    {
     "data": {
      "application/vnd.jupyter.widget-view+json": {
       "model_id": "adf7699ccb5f4f7e82a54697730729eb",
       "version_major": 2,
       "version_minor": 0
      },
      "text/plain": [
       "Epoch 17:   0%|          | 0/8000 [00:00<?, ?it/s]"
      ]
     },
     "metadata": {},
     "output_type": "display_data"
    },
    {
     "name": "stdout",
     "output_type": "stream",
     "text": [
      "Error: 0.5205, Epoch: 17, lr: 0.003454915028125263\n"
     ]
    },
    {
     "data": {
      "application/vnd.jupyter.widget-view+json": {
       "model_id": "555a62aa46e84b109a042c00dabecb9c",
       "version_major": 2,
       "version_minor": 0
      },
      "text/plain": [
       "Epoch 18:   0%|          | 0/8000 [00:00<?, ?it/s]"
      ]
     },
     "metadata": {},
     "output_type": "display_data"
    },
    {
     "name": "stdout",
     "output_type": "stream",
     "text": [
      "Error: 0.5235, Epoch: 18, lr: 0.0029663167846209998\n"
     ]
    },
    {
     "data": {
      "application/vnd.jupyter.widget-view+json": {
       "model_id": "2719314f0b194eb99cee9322f671792f",
       "version_major": 2,
       "version_minor": 0
      },
      "text/plain": [
       "Epoch 19:   0%|          | 0/8000 [00:00<?, ?it/s]"
      ]
     },
     "metadata": {},
     "output_type": "display_data"
    },
    {
     "name": "stdout",
     "output_type": "stream",
     "text": [
      "Error: 0.5245, Epoch: 19, lr: 0.002500000000000001\n"
     ]
    },
    {
     "data": {
      "application/vnd.jupyter.widget-view+json": {
       "model_id": "672bf59c197e4433bb0121565d706792",
       "version_major": 2,
       "version_minor": 0
      },
      "text/plain": [
       "Epoch 20:   0%|          | 0/8000 [00:00<?, ?it/s]"
      ]
     },
     "metadata": {},
     "output_type": "display_data"
    },
    {
     "name": "stdout",
     "output_type": "stream",
     "text": [
      "Error: 0.515, Epoch: 20, lr: 0.0020610737385376348\n"
     ]
    },
    {
     "data": {
      "application/vnd.jupyter.widget-view+json": {
       "model_id": "a2564989e2914742816c674f4d81782f",
       "version_major": 2,
       "version_minor": 0
      },
      "text/plain": [
       "Epoch 21:   0%|          | 0/8000 [00:00<?, ?it/s]"
      ]
     },
     "metadata": {},
     "output_type": "display_data"
    },
    {
     "name": "stdout",
     "output_type": "stream",
     "text": [
      "Error: 0.515, Epoch: 21, lr: 0.0016543469682057104\n"
     ]
    },
    {
     "data": {
      "application/vnd.jupyter.widget-view+json": {
       "model_id": "a981c761023f4cbeb6c295230d80351c",
       "version_major": 2,
       "version_minor": 0
      },
      "text/plain": [
       "Epoch 22:   0%|          | 0/8000 [00:00<?, ?it/s]"
      ]
     },
     "metadata": {},
     "output_type": "display_data"
    },
    {
     "name": "stdout",
     "output_type": "stream",
     "text": [
      "Error: 0.511, Epoch: 22, lr: 0.0012842758726130299\n"
     ]
    },
    {
     "data": {
      "application/vnd.jupyter.widget-view+json": {
       "model_id": "749eb7998587465ba6fe83dd60f3ebc3",
       "version_major": 2,
       "version_minor": 0
      },
      "text/plain": [
       "Epoch 23:   0%|          | 0/8000 [00:00<?, ?it/s]"
      ]
     },
     "metadata": {},
     "output_type": "display_data"
    },
    {
     "name": "stdout",
     "output_type": "stream",
     "text": [
      "Error: 0.5225, Epoch: 23, lr: 0.0009549150281252634\n"
     ]
    },
    {
     "data": {
      "application/vnd.jupyter.widget-view+json": {
       "model_id": "48bdf8fd2e4946cc90f8097f1a51827e",
       "version_major": 2,
       "version_minor": 0
      },
      "text/plain": [
       "Epoch 24:   0%|          | 0/8000 [00:00<?, ?it/s]"
      ]
     },
     "metadata": {},
     "output_type": "display_data"
    },
    {
     "name": "stdout",
     "output_type": "stream",
     "text": [
      "Error: 0.5155, Epoch: 24, lr: 0.0006698729810778065\n"
     ]
    },
    {
     "data": {
      "application/vnd.jupyter.widget-view+json": {
       "model_id": "9ade8503010e49cfb2690ae5db2a7605",
       "version_major": 2,
       "version_minor": 0
      },
      "text/plain": [
       "Epoch 25:   0%|          | 0/8000 [00:00<?, ?it/s]"
      ]
     },
     "metadata": {},
     "output_type": "display_data"
    },
    {
     "name": "stdout",
     "output_type": "stream",
     "text": [
      "Error: 0.5095, Epoch: 25, lr: 0.00043227271178699516\n"
     ]
    },
    {
     "data": {
      "application/vnd.jupyter.widget-view+json": {
       "model_id": "8e579880be114a708f11dc3de3596880",
       "version_major": 2,
       "version_minor": 0
      },
      "text/plain": [
       "Epoch 26:   0%|          | 0/8000 [00:00<?, ?it/s]"
      ]
     },
     "metadata": {},
     "output_type": "display_data"
    },
    {
     "name": "stdout",
     "output_type": "stream",
     "text": [
      "Error: 0.5135, Epoch: 26, lr: 0.00024471741852423234\n"
     ]
    },
    {
     "data": {
      "application/vnd.jupyter.widget-view+json": {
       "model_id": "910d400bc23242b9a1b687e85c521833",
       "version_major": 2,
       "version_minor": 0
      },
      "text/plain": [
       "Epoch 27:   0%|          | 0/8000 [00:00<?, ?it/s]"
      ]
     },
     "metadata": {},
     "output_type": "display_data"
    },
    {
     "name": "stdout",
     "output_type": "stream",
     "text": [
      "Error: 0.5135, Epoch: 27, lr: 0.00010926199633097157\n"
     ]
    },
    {
     "data": {
      "application/vnd.jupyter.widget-view+json": {
       "model_id": "099012c9b2014ecaafa5061311448035",
       "version_major": 2,
       "version_minor": 0
      },
      "text/plain": [
       "Epoch 28:   0%|          | 0/8000 [00:00<?, ?it/s]"
      ]
     },
     "metadata": {},
     "output_type": "display_data"
    },
    {
     "name": "stdout",
     "output_type": "stream",
     "text": [
      "Error: 0.513, Epoch: 28, lr: 2.7390523158632995e-05\n"
     ]
    },
    {
     "data": {
      "application/vnd.jupyter.widget-view+json": {
       "model_id": "c840d92eff434383ab2957e2b049e9dd",
       "version_major": 2,
       "version_minor": 0
      },
      "text/plain": [
       "Epoch 29:   0%|          | 0/8000 [00:00<?, ?it/s]"
      ]
     },
     "metadata": {},
     "output_type": "display_data"
    },
    {
     "name": "stdout",
     "output_type": "stream",
     "text": [
      "Error: 0.512, Epoch: 29, lr: 0.0\n"
     ]
    }
   ],
   "source": [
    "use_cuda = False\n",
    "X_prompt_train, Y_prompt_train, X_prompt_test, Y_prompt_test = list(), list(), list(), list()\n",
    "\n",
    "for dat in tqdm(data_partition):\n",
    "\n",
    "    if dat['train']:\n",
    "        X_, Y_ = X_prompt_train, Y_prompt_train\n",
    "    else:\n",
    "        X_, Y_ = X_prompt_test, Y_prompt_test\n",
    "    \n",
    "    X_.append(np.average(dat['prompt'], axis=0).reshape((1, -1)))\n",
    "    Y_.append(dat['iter'])\n",
    "\n",
    "X_prompt_train = np.concatenate(X_prompt_train, axis=0)\n",
    "X_prompt_test = np.concatenate(X_prompt_test, axis=0)\n",
    "Y_prompt_train, Y_prompt_test = np.array(Y_prompt_train), np.array(Y_prompt_test)\n",
    "\n",
    "idx = np.random.permutation(len(X_prompt_train))\n",
    "X_prompt_train = X_prompt_train[idx]\n",
    "Y_prompt_train = Y_prompt_train[idx]\n",
    "\n",
    "Y_prompt_train = np.clip(Y_prompt_train, 0, 512)\n",
    "Y_prompt_test = np.clip(Y_prompt_test, 0, 512)\n",
    "\n",
    "Y_prompt_train = np.digitize(Y_prompt_train, np.linspace(0, 512, 10))\n",
    "Y_prompt_test = np.digitize(Y_prompt_test, np.linspace(0, 512, 10))\n",
    "\n",
    "X_train_torch = torch.tensor(X_prompt_train, dtype=torch.float32)\n",
    "Y_train_torch = torch.tensor(Y_prompt_train, dtype=torch.long)\n",
    "X_test_torch = torch.tensor(X_prompt_test, dtype=torch.float32)\n",
    "Y_test_torch = torch.tensor(Y_prompt_test, dtype=torch.long)\n",
    "\n",
    "model = nn.Sequential(\n",
    "    nn.Linear(X_train_torch.shape[1], 512),\n",
    "    nn.ReLU(),\n",
    "    nn.Linear(512, 10)\n",
    ")\n",
    "\n",
    "if torch.cuda.is_available() and use_cuda:\n",
    "    model.to('cuda')\n",
    "    X_train_torch = X_train_torch.to('cuda')\n",
    "    Y_train_torch = Y_train_torch.to('cuda')\n",
    "    X_test_torch = X_test_torch.to('cuda')\n",
    "    Y_test_torch = Y_test_torch.to('cuda')\n",
    "\n",
    "batch_size = 32\n",
    "num_epochs = 30\n",
    "initial_lr = 0.01\n",
    "final_lr = 0.\n",
    "\n",
    "# Define loss function (CE) and optimizer\n",
    "criterion = nn.CrossEntropyLoss()\n",
    "optimizer = optim.AdamW(model.parameters(), lr=initial_lr, weight_decay=0.01)\n",
    "\n",
    "# cosine decay of learning rate\n",
    "lr_scheduler = torch.optim.lr_scheduler.CosineAnnealingLR(optimizer, num_epochs, eta_min=final_lr)\n",
    "\n",
    "# Train the model\n",
    "for epoch in range(num_epochs):  # number of epochs\n",
    "    model.train()\n",
    "    with tqdm(total=len(X_train_torch), desc=f\"Epoch {epoch}\") as pbar:\n",
    "        for batch_idx in range(0, len(X_train_torch), batch_size):\n",
    "            X_batch = X_train_torch[batch_idx:batch_idx+batch_size]\n",
    "            Y_batch = Y_train_torch[batch_idx:batch_idx+batch_size]\n",
    "            optimizer.zero_grad()\n",
    "            Y_batch_pred = model(X_batch)\n",
    "            loss = criterion(Y_batch_pred, Y_batch)\n",
    "            loss.backward()\n",
    "            optimizer.step()\n",
    "            pbar.set_description(f\"Epoch {epoch} Loss {loss.item()}\")\n",
    "            pbar.update(batch_size)\n",
    "\n",
    "        lr_scheduler.step()\n",
    "    \n",
    "    model.eval()\n",
    "    with torch.no_grad():\n",
    "        Y_test_pred = model(X_test_torch)\n",
    "        Y_test_pred = torch.argmax(Y_test_pred, dim=1)\n",
    "        err = (Y_test_pred != Y_test_torch).sum().item() / len(Y_test_torch)\n",
    "        print(f'Error: {err}, Epoch: {epoch}, lr: {optimizer.param_groups[0][\"lr\"]}')"
   ]
  },
  {
   "cell_type": "code",
   "execution_count": 7,
   "metadata": {},
   "outputs": [],
   "source": [
    "Y_prompt_test_pred = model(X_test_torch).cpu().detach().numpy()\n",
    "for idx in range(Y_prompt_test_pred.shape[0]):\n",
    "    test_partition[idx]['prompt_label_uniform_bin'] = Y_prompt_test[idx]\n",
    "    test_partition[idx]['prompt_pred_uniform_bin'] = Y_prompt_test_pred[idx, :]"
   ]
  },
  {
   "cell_type": "code",
   "execution_count": 8,
   "metadata": {},
   "outputs": [
    {
     "data": {
      "application/vnd.jupyter.widget-view+json": {
       "model_id": "0020e0c7f34f41e687ada1740d47e2ed",
       "version_major": 2,
       "version_minor": 0
      },
      "text/plain": [
       "  0%|          | 0/10000 [00:00<?, ?it/s]"
      ]
     },
     "metadata": {},
     "output_type": "display_data"
    },
    {
     "data": {
      "application/vnd.jupyter.widget-view+json": {
       "model_id": "cacdd6674f7047bfa381e772cdd460e4",
       "version_major": 2,
       "version_minor": 0
      },
      "text/plain": [
       "Epoch 0:   0%|          | 0/1688832 [00:00<?, ?it/s]"
      ]
     },
     "metadata": {},
     "output_type": "display_data"
    },
    {
     "name": "stdout",
     "output_type": "stream",
     "text": [
      "Error: 0.6350397824577121, Epoch: 0, lr: 0.009938441702975689\n"
     ]
    },
    {
     "data": {
      "application/vnd.jupyter.widget-view+json": {
       "model_id": "59e5ae86d3a74faaa59a92cb4d4787e2",
       "version_major": 2,
       "version_minor": 0
      },
      "text/plain": [
       "Epoch 1:   0%|          | 0/1688832 [00:00<?, ?it/s]"
      ]
     },
     "metadata": {},
     "output_type": "display_data"
    },
    {
     "name": "stdout",
     "output_type": "stream",
     "text": [
      "Error: 0.6250019795081319, Epoch: 1, lr: 0.009755282581475769\n"
     ]
    },
    {
     "data": {
      "application/vnd.jupyter.widget-view+json": {
       "model_id": "1f95d2e49ad3420dad0c43afa82a0b90",
       "version_major": 2,
       "version_minor": 0
      },
      "text/plain": [
       "Epoch 2:   0%|          | 0/1688832 [00:00<?, ?it/s]"
      ]
     },
     "metadata": {},
     "output_type": "display_data"
    },
    {
     "name": "stdout",
     "output_type": "stream",
     "text": [
      "Error: 0.6204434550674277, Epoch: 2, lr: 0.00945503262094184\n"
     ]
    },
    {
     "data": {
      "application/vnd.jupyter.widget-view+json": {
       "model_id": "5bd0f12a90ff499d9f08b82ad4bda30d",
       "version_major": 2,
       "version_minor": 0
      },
      "text/plain": [
       "Epoch 3:   0%|          | 0/1688832 [00:00<?, ?it/s]"
      ]
     },
     "metadata": {},
     "output_type": "display_data"
    },
    {
     "name": "stdout",
     "output_type": "stream",
     "text": [
      "Error: 0.617875750233582, Epoch: 3, lr: 0.009045084971874739\n"
     ]
    },
    {
     "data": {
      "application/vnd.jupyter.widget-view+json": {
       "model_id": "a4087aa29cff4a64bd20d9984bd7de12",
       "version_major": 2,
       "version_minor": 0
      },
      "text/plain": [
       "Epoch 4:   0%|          | 0/1688832 [00:00<?, ?it/s]"
      ]
     },
     "metadata": {},
     "output_type": "display_data"
    },
    {
     "name": "stdout",
     "output_type": "stream",
     "text": [
      "Error: 0.6195996190295207, Epoch: 4, lr: 0.008535533905932738\n"
     ]
    },
    {
     "data": {
      "application/vnd.jupyter.widget-view+json": {
       "model_id": "2d8a218cb31349918426285778648a93",
       "version_major": 2,
       "version_minor": 0
      },
      "text/plain": [
       "Epoch 5:   0%|          | 0/1688832 [00:00<?, ?it/s]"
      ]
     },
     "metadata": {},
     "output_type": "display_data"
    },
    {
     "name": "stdout",
     "output_type": "stream",
     "text": [
      "Error: 0.6207511271884877, Epoch: 5, lr: 0.007938926261462366\n"
     ]
    },
    {
     "data": {
      "application/vnd.jupyter.widget-view+json": {
       "model_id": "f8db28945bdd4f8ba5d52ffbcbde9afa",
       "version_major": 2,
       "version_minor": 0
      },
      "text/plain": [
       "Epoch 6:   0%|          | 0/1688832 [00:00<?, ?it/s]"
      ]
     },
     "metadata": {},
     "output_type": "display_data"
    },
    {
     "name": "stdout",
     "output_type": "stream",
     "text": [
      "Error: 0.6208167337437136, Epoch: 6, lr: 0.007269952498697735\n"
     ]
    },
    {
     "data": {
      "application/vnd.jupyter.widget-view+json": {
       "model_id": "3b84bec489e940f2b8e5c9d893e1504b",
       "version_major": 2,
       "version_minor": 0
      },
      "text/plain": [
       "Epoch 7:   0%|          | 0/1688832 [00:00<?, ?it/s]"
      ]
     },
     "metadata": {},
     "output_type": "display_data"
    },
    {
     "name": "stdout",
     "output_type": "stream",
     "text": [
      "Error: 0.6209977173443372, Epoch: 7, lr: 0.006545084971874738\n"
     ]
    },
    {
     "data": {
      "application/vnd.jupyter.widget-view+json": {
       "model_id": "12157bc80fd54eb2be8d1eaaff151a5e",
       "version_major": 2,
       "version_minor": 0
      },
      "text/plain": [
       "Epoch 8:   0%|          | 0/1688832 [00:00<?, ?it/s]"
      ]
     },
     "metadata": {},
     "output_type": "display_data"
    },
    {
     "name": "stdout",
     "output_type": "stream",
     "text": [
      "Error: 0.6226039467998706, Epoch: 8, lr: 0.005782172325201155\n"
     ]
    },
    {
     "data": {
      "application/vnd.jupyter.widget-view+json": {
       "model_id": "e076fec7c17b498ab5a5bcf3c3d2b4c0",
       "version_major": 2,
       "version_minor": 0
      },
      "text/plain": [
       "Epoch 9:   0%|          | 0/1688832 [00:00<?, ?it/s]"
      ]
     },
     "metadata": {},
     "output_type": "display_data"
    },
    {
     "name": "stdout",
     "output_type": "stream",
     "text": [
      "Error: 0.6232554877621151, Epoch: 9, lr: 0.005\n"
     ]
    },
    {
     "data": {
      "application/vnd.jupyter.widget-view+json": {
       "model_id": "c4886a311134417bac3c606c1a127431",
       "version_major": 2,
       "version_minor": 0
      },
      "text/plain": [
       "Epoch 10:   0%|          | 0/1688832 [00:00<?, ?it/s]"
      ]
     },
     "metadata": {},
     "output_type": "display_data"
    },
    {
     "name": "stdout",
     "output_type": "stream",
     "text": [
      "Error: 0.6239432254444844, Epoch: 10, lr: 0.004217827674798847\n"
     ]
    },
    {
     "data": {
      "application/vnd.jupyter.widget-view+json": {
       "model_id": "b341c67dd7784819ad2cfb7521bba2bb",
       "version_major": 2,
       "version_minor": 0
      },
      "text/plain": [
       "Epoch 11:   0%|          | 0/1688832 [00:00<?, ?it/s]"
      ]
     },
     "metadata": {},
     "output_type": "display_data"
    },
    {
     "name": "stdout",
     "output_type": "stream",
     "text": [
      "Error: 0.6251897499937787, Epoch: 11, lr: 0.0034549150281252636\n"
     ]
    },
    {
     "data": {
      "application/vnd.jupyter.widget-view+json": {
       "model_id": "c7880966ff594b7d8504c95fb89b9373",
       "version_major": 2,
       "version_minor": 0
      },
      "text/plain": [
       "Epoch 12:   0%|          | 0/1688832 [00:00<?, ?it/s]"
      ]
     },
     "metadata": {},
     "output_type": "display_data"
    },
    {
     "name": "stdout",
     "output_type": "stream",
     "text": [
      "Error: 0.6250585368833267, Epoch: 12, lr: 0.0027300475013022664\n"
     ]
    },
    {
     "data": {
      "application/vnd.jupyter.widget-view+json": {
       "model_id": "252de70204ec40569f02350fc381a208",
       "version_major": 2,
       "version_minor": 0
      },
      "text/plain": [
       "Epoch 13:   0%|          | 0/1688832 [00:00<?, ?it/s]"
      ]
     },
     "metadata": {},
     "output_type": "display_data"
    },
    {
     "name": "stdout",
     "output_type": "stream",
     "text": [
      "Error: 0.6256603073553998, Epoch: 13, lr: 0.0020610737385376348\n"
     ]
    },
    {
     "data": {
      "application/vnd.jupyter.widget-view+json": {
       "model_id": "28bc407e0af04af18bff919f44361998",
       "version_major": 2,
       "version_minor": 0
      },
      "text/plain": [
       "Epoch 14:   0%|          | 0/1688832 [00:00<?, ?it/s]"
      ]
     },
     "metadata": {},
     "output_type": "display_data"
    },
    {
     "name": "stdout",
     "output_type": "stream",
     "text": [
      "Error: 0.6257983073508752, Epoch: 14, lr: 0.0014644660940672626\n"
     ]
    },
    {
     "data": {
      "application/vnd.jupyter.widget-view+json": {
       "model_id": "f0fac7b4be6b45958a328d943d910f2e",
       "version_major": 2,
       "version_minor": 0
      },
      "text/plain": [
       "Epoch 15:   0%|          | 0/1688832 [00:00<?, ?it/s]"
      ]
     },
     "metadata": {},
     "output_type": "display_data"
    },
    {
     "name": "stdout",
     "output_type": "stream",
     "text": [
      "Error: 0.625843553251031, Epoch: 15, lr: 0.0009549150281252633\n"
     ]
    },
    {
     "data": {
      "application/vnd.jupyter.widget-view+json": {
       "model_id": "31775d94d99c428db7f3ad006bdf4cdf",
       "version_major": 2,
       "version_minor": 0
      },
      "text/plain": [
       "Epoch 16:   0%|          | 0/1688832 [00:00<?, ?it/s]"
      ]
     },
     "metadata": {},
     "output_type": "display_data"
    },
    {
     "name": "stdout",
     "output_type": "stream",
     "text": [
      "Error: 0.6256422089953374, Epoch: 16, lr: 0.0005449673790581611\n"
     ]
    },
    {
     "data": {
      "application/vnd.jupyter.widget-view+json": {
       "model_id": "fce8ba6deb064e5d8deb6624a26904cd",
       "version_major": 2,
       "version_minor": 0
      },
      "text/plain": [
       "Epoch 17:   0%|          | 0/1688832 [00:00<?, ?it/s]"
      ]
     },
     "metadata": {},
     "output_type": "display_data"
    },
    {
     "name": "stdout",
     "output_type": "stream",
     "text": [
      "Error: 0.6260154876716234, Epoch: 17, lr: 0.00024471741852423234\n"
     ]
    },
    {
     "data": {
      "application/vnd.jupyter.widget-view+json": {
       "model_id": "a513fa6f615343df801b437b0232b234",
       "version_major": 2,
       "version_minor": 0
      },
      "text/plain": [
       "Epoch 18:   0%|          | 0/1688832 [00:00<?, ?it/s]"
      ]
     },
     "metadata": {},
     "output_type": "display_data"
    },
    {
     "name": "stdout",
     "output_type": "stream",
     "text": [
      "Error: 0.6264046024129638, Epoch: 18, lr: 6.15582970243117e-05\n"
     ]
    },
    {
     "data": {
      "application/vnd.jupyter.widget-view+json": {
       "model_id": "6d95a649d18949d384c0640a03d3479b",
       "version_major": 2,
       "version_minor": 0
      },
      "text/plain": [
       "Epoch 19:   0%|          | 0/1688832 [00:00<?, ?it/s]"
      ]
     },
     "metadata": {},
     "output_type": "display_data"
    },
    {
     "name": "stdout",
     "output_type": "stream",
     "text": [
      "Error: 0.6266195204387043, Epoch: 19, lr: 0.0\n"
     ]
    }
   ],
   "source": [
    "X_train, Y_train, X_test, Y_test = list(), list(), list(), list()\n",
    "\n",
    "for dat in tqdm(data_partition):\n",
    "\n",
    "    if dat['train']:\n",
    "        X_, Y_ = X_train, Y_train\n",
    "    else:\n",
    "        X_, Y_ = X_test, Y_test\n",
    "\n",
    "    X_.append(dat['X'])\n",
    "    Y_.append(dat['Y'])\n",
    "\n",
    "X_train = np.concatenate(X_train, axis=0)\n",
    "X_test = np.concatenate(X_test, axis=0)\n",
    "Y_train, Y_test = np.concatenate(Y_train), np.concatenate(Y_test)\n",
    "\n",
    "idx = np.random.permutation(len(X_train))\n",
    "X_train = X_train[idx]\n",
    "Y_train = Y_train[idx]\n",
    "\n",
    "Y_train = np.clip(Y_train, 0, 512)\n",
    "Y_test = np.clip(Y_test, 0, 512)\n",
    "\n",
    "Y_train = np.digitize(Y_train, np.linspace(0, 512, 10))\n",
    "Y_test = np.digitize(Y_test, np.linspace(0, 512, 10))\n",
    "\n",
    "X_train_torch = torch.tensor(X_train, dtype=torch.float32)\n",
    "Y_train_torch = torch.tensor(Y_train, dtype=torch.long)\n",
    "X_test_torch = torch.tensor(X_test, dtype=torch.float32)\n",
    "Y_test_torch = torch.tensor(Y_test, dtype=torch.long)\n",
    "\n",
    "model = nn.Sequential(\n",
    "    nn.Linear(X_train_torch.shape[1], 512),\n",
    "    nn.ReLU(),\n",
    "    nn.Linear(512, 10)\n",
    ")\n",
    "\n",
    "if torch.cuda.is_available() and use_cuda:\n",
    "    model.to('cuda')\n",
    "    X_train_torch = X_train_torch.to('cuda')\n",
    "    Y_train_torch = Y_train_torch.to('cuda')\n",
    "    X_test_torch = X_test_torch.to('cuda')\n",
    "    Y_test_torch = Y_test_torch.to('cuda')\n",
    "\n",
    "batch_size = 10_000\n",
    "num_epochs = 20\n",
    "initial_lr = 0.01\n",
    "final_lr = 0.\n",
    "\n",
    "# Define loss function (CE) and optimizer\n",
    "criterion = nn.CrossEntropyLoss()\n",
    "optimizer = optim.AdamW(model.parameters(), lr=initial_lr, weight_decay=0.01)\n",
    "\n",
    "# cosine decay of learning rate\n",
    "lr_scheduler = torch.optim.lr_scheduler.CosineAnnealingLR(optimizer, num_epochs, eta_min=final_lr)\n",
    "\n",
    "# Train the model\n",
    "for epoch in range(num_epochs):  # number of epochs\n",
    "    model.train()\n",
    "    with tqdm(total=len(X_train_torch), desc=f\"Epoch {epoch}\") as pbar:\n",
    "        for batch_idx in range(0, len(X_train_torch), batch_size):\n",
    "            X_batch = X_train_torch[batch_idx:batch_idx+batch_size]\n",
    "            Y_batch = Y_train_torch[batch_idx:batch_idx+batch_size]\n",
    "            optimizer.zero_grad()\n",
    "            Y_batch_pred = model(X_batch)\n",
    "            loss = criterion(Y_batch_pred, Y_batch)\n",
    "            loss.backward()\n",
    "            optimizer.step()\n",
    "            pbar.set_description(f\"Epoch {epoch} Loss {loss.item()}\")\n",
    "            pbar.update(batch_size)\n",
    "\n",
    "        lr_scheduler.step()\n",
    "    \n",
    "    model.eval()\n",
    "    with torch.no_grad():\n",
    "        Y_test_pred = model(X_test_torch)\n",
    "        Y_test_pred = torch.argmax(Y_test_pred, dim=1)\n",
    "        err = (Y_test_pred != Y_test_torch).sum().item() / len(Y_test_torch)\n",
    "        print(f'Error: {err}, Epoch: {epoch}, lr: {optimizer.param_groups[0][\"lr\"]}')"
   ]
  },
  {
   "cell_type": "code",
   "execution_count": 22,
   "metadata": {},
   "outputs": [],
   "source": [
    "Y_test_pred = model(X_test_torch).cpu().detach().numpy()\n",
    "Y_test_buffer = Y_test\n",
    "Y_test_pred_buffer = Y_test_pred\n",
    "\n",
    "for dat in test_partition:\n",
    "\n",
    "    sp = dat['X'].shape[0]\n",
    "    Y_test_curr = Y_test_buffer[:sp]\n",
    "    Y_test_pred_curr = Y_test_pred_buffer[:sp, :]\n",
    "\n",
    "    dat['Y_label_uniform_bin'] = Y_test_curr\n",
    "    dat['Y_pred_uniform_bin'] = Y_test_pred_curr\n",
    "\n",
    "    Y_test_buffer = Y_test_buffer[sp:]\n",
    "    Y_test_pred_buffer = Y_test_pred_buffer[sp:, :]"
   ]
  },
  {
   "cell_type": "code",
   "execution_count": 23,
   "metadata": {},
   "outputs": [],
   "source": [
    "with open('eval/lllt_split0_testeval.pkl', 'wb') as fout:\n",
    "    pkl.dump(test_partition, fout)"
   ]
  },
  {
   "cell_type": "code",
   "execution_count": null,
   "metadata": {},
   "outputs": [],
   "source": [
    "with open('eval/lllt_split0_testeval.pkl', 'rb') as fin:\n",
    "    eval_result = pkl.load(fin)"
   ]
  }
 ],
 "metadata": {
  "kernelspec": {
   "display_name": "schedule",
   "language": "python",
   "name": "python3"
  },
  "language_info": {
   "codemirror_mode": {
    "name": "ipython",
    "version": 3
   },
   "file_extension": ".py",
   "mimetype": "text/x-python",
   "name": "python",
   "nbconvert_exporter": "python",
   "pygments_lexer": "ipython3",
   "version": "3.11.8"
  }
 },
 "nbformat": 4,
 "nbformat_minor": 2
}
